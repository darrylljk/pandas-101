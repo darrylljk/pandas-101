{
 "cells": [
  {
   "cell_type": "code",
   "execution_count": null,
   "metadata": {},
   "outputs": [],
   "source": [
    "# load pandas\n",
    "import pandas as pd\n",
    "import numpy as np"
   ]
  },
  {
   "cell_type": "code",
   "execution_count": null,
   "metadata": {},
   "outputs": [
    {
     "name": "stderr",
     "output_type": "stream",
     "text": [
      "C:\\Users\\sunse\\AppData\\Local\\Temp\\ipykernel_2276\\3267294540.py:2: DtypeWarning: Columns (68,70,71,72,73,74,76,79) have mixed types. Specify dtype option on import or set low_memory=False.\n",
      "  df = pd.read_csv(url)\n"
     ]
    }
   ],
   "source": [
    "url = 'https://github.com/mattharrison/datasets/raw/master/data/vehicles.csv.zip'\n",
    "df = pd.read_csv(url)\n",
    "\n",
    "# loading the columns of the dataset\n",
    "city_mpg = df.city08\n",
    "highway_mpg = df.highway08"
   ]
  },
  {
   "cell_type": "markdown",
   "metadata": {},
   "source": [
    "## 6. Manipulation Methods"
   ]
  },
  {
   "cell_type": "markdown",
   "metadata": {},
   "source": [
    "- the workhorse of pandas\n",
    "- data processing and cleaning\n",
    "- most methods discussed here manipulate series values but preserve the index"
   ]
  },
  {
   "cell_type": "code",
   "execution_count": null,
   "metadata": {},
   "outputs": [],
   "source": [
    "def gt20(val):\n",
    "    return val > 20"
   ]
  },
  {
   "cell_type": "code",
   "execution_count": null,
   "metadata": {},
   "outputs": [
    {
     "data": {
      "text/plain": [
       "0        False\n",
       "1        False\n",
       "2         True\n",
       "3        False\n",
       "4        False\n",
       "         ...  \n",
       "41139    False\n",
       "41140    False\n",
       "41141    False\n",
       "41142    False\n",
       "41143    False\n",
       "Name: city08, Length: 41144, dtype: bool"
      ]
     },
     "metadata": {},
     "output_type": "display_data"
    }
   ],
   "source": [
    "# apply allows you to apply a function element-wise to every value\n",
    "city_mpg.apply(gt20)"
   ]
  },
  {
   "cell_type": "code",
   "execution_count": null,
   "metadata": {},
   "outputs": [
    {
     "data": {
      "text/plain": [
       "make\n",
       "Chevrolet                      4003\n",
       "Ford                           3371\n",
       "Dodge                          2583\n",
       "GMC                            2494\n",
       "Toyota                         2071\n",
       "                               ... \n",
       "Volga Associated Automobile       1\n",
       "Panos                             1\n",
       "Mahindra                          1\n",
       "Excalibur Autos                   1\n",
       "London Coach Co Inc               1\n",
       "Name: count, Length: 136, dtype: int64"
      ]
     },
     "metadata": {},
     "output_type": "display_data"
    }
   ],
   "source": [
    "make = df.make\n",
    "make.value_counts()"
   ]
  },
  {
   "cell_type": "code",
   "execution_count": null,
   "metadata": {},
   "outputs": [
    {
     "data": {
      "text/plain": [
       "0        Other\n",
       "1        Other\n",
       "2        Dodge\n",
       "3        Dodge\n",
       "4        Other\n",
       "         ...  \n",
       "41139    Other\n",
       "41140    Other\n",
       "41141    Other\n",
       "41142    Other\n",
       "41143    Other\n",
       "Name: make, Length: 41144, dtype: object"
      ]
     },
     "metadata": {},
     "output_type": "display_data"
    }
   ],
   "source": [
    "top5 = make.value_counts().index[:5]\n",
    "def generalize_top5(val):\n",
    "    if val in top5:\n",
    "        return val\n",
    "    return 'Other'\n",
    "\n",
    "make.apply(generalize_top5)"
   ]
  },
  {
   "cell_type": "code",
   "execution_count": null,
   "metadata": {},
   "outputs": [
    {
     "data": {
      "text/plain": [
       "0        False\n",
       "1        False\n",
       "2         True\n",
       "3         True\n",
       "4        False\n",
       "         ...  \n",
       "41139    False\n",
       "41140    False\n",
       "41141    False\n",
       "41142    False\n",
       "41143    False\n",
       "Name: make, Length: 41144, dtype: bool"
      ]
     },
     "metadata": {},
     "output_type": "display_data"
    }
   ],
   "source": [
    "# isin method\n",
    "make.isin(top5)"
   ]
  },
  {
   "cell_type": "code",
   "execution_count": null,
   "metadata": {},
   "outputs": [
    {
     "data": {
      "text/plain": [
       "0        Other\n",
       "1        Other\n",
       "2        Dodge\n",
       "3        Dodge\n",
       "4        Other\n",
       "         ...  \n",
       "41139    Other\n",
       "41140    Other\n",
       "41141    Other\n",
       "41142    Other\n",
       "41143    Other\n",
       "Name: make, Length: 41144, dtype: object"
      ]
     },
     "metadata": {},
     "output_type": "display_data"
    }
   ],
   "source": [
    "# .where method\n",
    "make.where(\n",
    "    make.isin(top5),\n",
    "    other='Other'\n",
    ")"
   ]
  },
  {
   "cell_type": "code",
   "execution_count": null,
   "metadata": {},
   "outputs": [
    {
     "data": {
      "text/plain": [
       "0        Alfa Romeo\n",
       "1           Ferrari\n",
       "2             Other\n",
       "3             Other\n",
       "4            Subaru\n",
       "            ...    \n",
       "41139        Subaru\n",
       "41140        Subaru\n",
       "41141        Subaru\n",
       "41142        Subaru\n",
       "41143        Subaru\n",
       "Name: make, Length: 41144, dtype: object"
      ]
     },
     "metadata": {},
     "output_type": "display_data"
    }
   ],
   "source": [
    "# tilde ~ inverts the condition\n",
    "make.where(\n",
    "    ~make.isin(top5),\n",
    "    other='Other'\n",
    ")"
   ]
  },
  {
   "cell_type": "markdown",
   "metadata": {},
   "source": [
    "Missing Data"
   ]
  },
  {
   "cell_type": "code",
   "execution_count": null,
   "metadata": {},
   "outputs": [
    {
     "data": {
      "text/plain": [
       "206"
      ]
     },
     "metadata": {},
     "output_type": "display_data"
    }
   ],
   "source": [
    "cyl = df.cylinders\n",
    "cyl.isna().sum() # no of missing data"
   ]
  },
  {
   "cell_type": "code",
   "execution_count": null,
   "metadata": {},
   "outputs": [
    {
     "data": {
      "text/plain": [
       "7138     Nissan\n",
       "7139     Toyota\n",
       "8143     Toyota\n",
       "8144       Ford\n",
       "8146       Ford\n",
       "          ...  \n",
       "34563     Tesla\n",
       "34564     Tesla\n",
       "34565     Tesla\n",
       "34566     Tesla\n",
       "34567     Tesla\n",
       "Name: make, Length: 206, dtype: object"
      ]
     },
     "metadata": {},
     "output_type": "display_data"
    }
   ],
   "source": [
    "missing = cyl.isna() # missing mask\n",
    "make.loc[missing] # makes with missing cylinder values"
   ]
  },
  {
   "cell_type": "markdown",
   "metadata": {},
   "source": [
    "Seems like cylinder information is missing from cars that are electric because it has an electric engine, not a combustion engine, hence 0 cylinders"
   ]
  },
  {
   "cell_type": "code",
   "execution_count": null,
   "metadata": {},
   "outputs": [
    {
     "data": {
      "text/plain": [
       "0         4.0\n",
       "1        12.0\n",
       "2         4.0\n",
       "3         8.0\n",
       "4         4.0\n",
       "         ... \n",
       "41139     4.0\n",
       "41140     4.0\n",
       "41141     4.0\n",
       "41142     4.0\n",
       "41143     4.0\n",
       "Name: cylinders, Length: 41144, dtype: float64"
      ]
     },
     "metadata": {},
     "output_type": "display_data"
    }
   ],
   "source": [
    "# use fillna method to specify a replacement for missing data\n",
    "cyl[cyl.isna()]\n",
    "\n",
    "cyl.fillna(0)"
   ]
  },
  {
   "cell_type": "markdown",
   "metadata": {},
   "source": [
    "Possible fill options:\n",
    "\n",
    "1. drop missing values: dropna()\n",
    "2. forward fill: ffill()\n",
    "3. backward fill: bfill()\n",
    "4. fill missing value: fillna(data.mean()) -- in this case filling with mean value\n",
    "5. interpolate: interpolate() -- handy if the data is ordered\n"
   ]
  },
  {
   "cell_type": "code",
   "execution_count": null,
   "metadata": {},
   "outputs": [
    {
     "data": {
      "text/plain": [
       "7901       6\n",
       "34557      6\n",
       "37161      6\n",
       "21060      6\n",
       "35887      6\n",
       "        ... \n",
       "34563    138\n",
       "34564    140\n",
       "32599    150\n",
       "31256    150\n",
       "33423    150\n",
       "Name: city08, Length: 41144, dtype: int64"
      ]
     },
     "metadata": {},
     "output_type": "display_data"
    }
   ],
   "source": [
    "# sort values\n",
    "city_mpg.sort_values()"
   ]
  },
  {
   "cell_type": "code",
   "execution_count": null,
   "metadata": {},
   "outputs": [
    {
     "data": {
      "text/plain": [
       "0        19\n",
       "1         9\n",
       "2        23\n",
       "3        10\n",
       "4        17\n",
       "         ..\n",
       "41139    19\n",
       "41140    20\n",
       "41141    18\n",
       "41142    18\n",
       "41143    16\n",
       "Name: city08, Length: 41144, dtype: int64"
      ]
     },
     "metadata": {},
     "output_type": "display_data"
    }
   ],
   "source": [
    "# sort index\n",
    "city_mpg.sort_values().sort_index()"
   ]
  },
  {
   "cell_type": "code",
   "execution_count": null,
   "metadata": {},
   "outputs": [
    {
     "data": {
      "text/plain": [
       "0         19\n",
       "1          9\n",
       "2         23\n",
       "3         10\n",
       "4         17\n",
       "        ... \n",
       "34364    127\n",
       "34409    114\n",
       "34564    140\n",
       "34565    115\n",
       "34566    104\n",
       "Name: city08, Length: 105, dtype: int64"
      ]
     },
     "metadata": {},
     "output_type": "display_data"
    }
   ],
   "source": [
    "# drop duplicates\n",
    "city_mpg.drop_duplicates()"
   ]
  },
  {
   "cell_type": "code",
   "execution_count": null,
   "metadata": {},
   "outputs": [
    {
     "data": {
      "text/plain": [
       "0        Alfa Romeo\n",
       "1           Ferrari\n",
       "2             Dodge\n",
       "3             Dodge\n",
       "4               Sub\n",
       "            ...    \n",
       "41139           Sub\n",
       "41140           Sub\n",
       "41141           Sub\n",
       "41142           Sub\n",
       "41143           Sub\n",
       "Name: make, Length: 41144, dtype: object"
      ]
     },
     "metadata": {},
     "output_type": "display_data"
    }
   ],
   "source": [
    "# replace data (map values to new values)\n",
    "make.replace('Subaru', 'Sub')"
   ]
  },
  {
   "cell_type": "markdown",
   "metadata": {},
   "source": [
    "Exercise 9.14"
   ]
  },
  {
   "cell_type": "code",
   "execution_count": null,
   "metadata": {},
   "outputs": [
    {
     "data": {
      "text/plain": [
       "0        high\n",
       "1         low\n",
       "2        high\n",
       "3         low\n",
       "4         low\n",
       "         ... \n",
       "41139    high\n",
       "41140    high\n",
       "41141     low\n",
       "41142     low\n",
       "41143     low\n",
       "Name: city08, Length: 41144, dtype: object"
      ]
     },
     "metadata": {},
     "output_type": "display_data"
    }
   ],
   "source": [
    "# ex 9.14\n",
    "\n",
    "#q1\n",
    "mean = city_mpg.mean()\n",
    "\n",
    "def high_low(val):\n",
    "    if val >= mean:\n",
    "        return 'high'\n",
    "    else: return 'low'\n",
    "\n",
    "hl = city_mpg.apply(high_low)\n",
    "hl"
   ]
  },
  {
   "cell_type": "code",
   "execution_count": null,
   "metadata": {},
   "outputs": [
    {
     "data": {
      "text/plain": [
       "array(['high', 'low', 'high', ..., 'low', 'low', 'low'], dtype='<U4')"
      ]
     },
     "metadata": {},
     "output_type": "display_data"
    }
   ],
   "source": [
    "#q2\n",
    "\n",
    "conditions = [city_mpg >= mean]\n",
    "choices = ['high']\n",
    "\n",
    "hl = np.select(conditions, choices, default='low')\n",
    "hl"
   ]
  },
  {
   "cell_type": "code",
   "execution_count": null,
   "metadata": {},
   "outputs": [
    {
     "name": "stdout",
     "output_type": "stream",
     "text": [
      "3.2580640999949537 0.12450910004554316\n"
     ]
    }
   ],
   "source": [
    "#q3\n",
    "import timeit\n",
    "\n",
    "apply_time = timeit.timeit(lambda: city_mpg.apply(high_low), number=1000)\n",
    "select_time = timeit.timeit(lambda: np.select(conditions, choices, default='low'), number=1000)\n",
    "\n",
    "print(apply_time, select_time)"
   ]
  },
  {
   "cell_type": "code",
   "execution_count": null,
   "metadata": {},
   "outputs": [
    {
     "name": "stdout",
     "output_type": "stream",
     "text": [
      "206\n"
     ]
    },
    {
     "data": {
      "text/plain": [
       "0"
      ]
     },
     "metadata": {},
     "output_type": "display_data"
    }
   ],
   "source": [
    "#q4\n",
    "print(cyl.isna().sum())\n",
    "cyl.fillna(cyl.median()).isna().sum()"
   ]
  },
  {
   "cell_type": "code",
   "execution_count": null,
   "metadata": {},
   "outputs": [
    {
     "name": "stdout",
     "output_type": "stream",
     "text": [
      "13.0 24.0\n",
      "6 150\n",
      "13 24\n"
     ]
    }
   ],
   "source": [
    "#q5\n",
    "low = city_mpg.quantile(.1)\n",
    "high = city_mpg.quantile(.9)\n",
    "\n",
    "print(low, high)\n",
    "print(city_mpg.min(), city_mpg.max())\n",
    "\n",
    "clip = city_mpg.clip(lower=low, upper=high)\n",
    "print(clip.min(), clip.max())"
   ]
  },
  {
   "cell_type": "code",
   "execution_count": null,
   "metadata": {},
   "outputs": [
    {
     "data": {
      "text/plain": [
       "0        Others\n",
       "1        Others\n",
       "2         Dodge\n",
       "3         Dodge\n",
       "4        Others\n",
       "          ...  \n",
       "41139    Others\n",
       "41140    Others\n",
       "41141    Others\n",
       "41142    Others\n",
       "41143    Others\n",
       "Name: make, Length: 41144, dtype: object"
      ]
     },
     "metadata": {},
     "output_type": "display_data"
    }
   ],
   "source": [
    "#q6\n",
    "top5 = make.value_counts().index[:5]\n",
    "def generalize(val):\n",
    "    if val in top5:\n",
    "        return val\n",
    "    else: return 'Others'\n",
    "\n",
    "\n",
    "make.apply(generalize)"
   ]
  },
  {
   "cell_type": "code",
   "execution_count": null,
   "metadata": {},
   "outputs": [
    {
     "data": {
      "text/plain": [
       "0        Others\n",
       "1        Others\n",
       "2         Dodge\n",
       "3         Dodge\n",
       "4        Others\n",
       "          ...  \n",
       "41139    Others\n",
       "41140    Others\n",
       "41141    Others\n",
       "41142    Others\n",
       "41143    Others\n",
       "Name: make, Length: 41144, dtype: object"
      ]
     },
     "metadata": {},
     "output_type": "display_data"
    }
   ],
   "source": [
    "#q7\n",
    "vc = make.value_counts()\n",
    "top10 = vc.index[:10]\n",
    "\n",
    "def generalize(val):\n",
    "    if val in top10:\n",
    "        return val\n",
    "    return 'Others'\n",
    "\n",
    "make.apply(generalize)"
   ]
  },
  {
   "cell_type": "code",
   "execution_count": null,
   "metadata": {},
   "outputs": [
    {
     "name": "stdout",
     "output_type": "stream",
     "text": [
      "1.6970072999829426 0.8374150999588892\n"
     ]
    }
   ],
   "source": [
    "#q8\n",
    "\n",
    "vc = make.value_counts()\n",
    "\n",
    "def generalize_n(val, n):\n",
    "\n",
    "    top_n = vc.index[:n]\n",
    "\n",
    "    if val in top_n:\n",
    "        return val\n",
    "    return 'Others'\n",
    "\n",
    "def generalize_n_set(val, n):\n",
    "\n",
    "    top_n = set(vc.index[:n])\n",
    "\n",
    "    if val in top_n:\n",
    "        return val\n",
    "    return 'Others'\n",
    "\n",
    "t1 = timeit.timeit(lambda: make.apply(generalize_n, n=10), number=10)\n",
    "t2 = timeit.timeit(lambda: make.apply(generalize_n_set, n=10), number=10)\n",
    "\n",
    "print(t1, t2)\n",
    "# set is faster"
   ]
  },
  {
   "cell_type": "code",
   "execution_count": null,
   "metadata": {},
   "outputs": [
    {
     "data": {
      "text/plain": [
       "0        (5.856, 20.4]\n",
       "1        (5.856, 20.4]\n",
       "2         (20.4, 34.8]\n",
       "3        (5.856, 20.4]\n",
       "4        (5.856, 20.4]\n",
       "             ...      \n",
       "41139    (5.856, 20.4]\n",
       "41140    (5.856, 20.4]\n",
       "41141    (5.856, 20.4]\n",
       "41142    (5.856, 20.4]\n",
       "41143    (5.856, 20.4]\n",
       "Name: city08, Length: 41144, dtype: category\n",
       "Categories (10, interval[float64, right]): [(5.856, 20.4] < (20.4, 34.8] < (34.8, 49.2] < (49.2, 63.6] ... (92.4, 106.8] < (106.8, 121.2] < (121.2, 135.6] < (135.6, 150.0]]"
      ]
     },
     "metadata": {},
     "output_type": "display_data"
    }
   ],
   "source": [
    "#q9\n",
    "pd.cut(city_mpg, 10)"
   ]
  },
  {
   "cell_type": "code",
   "execution_count": null,
   "metadata": {},
   "outputs": [
    {
     "data": {
      "text/plain": [
       "0         (18.0, 20.0]\n",
       "1        (5.999, 13.0]\n",
       "2         (21.0, 24.0]\n",
       "3        (5.999, 13.0]\n",
       "4         (16.0, 17.0]\n",
       "             ...      \n",
       "41139     (18.0, 20.0]\n",
       "41140     (18.0, 20.0]\n",
       "41141     (17.0, 18.0]\n",
       "41142     (17.0, 18.0]\n",
       "41143     (15.0, 16.0]\n",
       "Name: city08, Length: 41144, dtype: category\n",
       "Categories (10, interval[float64, right]): [(5.999, 13.0] < (13.0, 14.0] < (14.0, 15.0] < (15.0, 16.0] ... (18.0, 20.0] < (20.0, 21.0] < (21.0, 24.0] < (24.0, 150.0]]"
      ]
     },
     "metadata": {},
     "output_type": "display_data"
    }
   ],
   "source": [
    "#q10\n",
    "pd.qcut(city_mpg, 10)"
   ]
  },
  {
   "cell_type": "markdown",
   "metadata": {},
   "source": []
  }
 ],
 "metadata": {
  "language_info": {
   "name": "python"
  }
 },
 "nbformat": 4,
 "nbformat_minor": 2
}
