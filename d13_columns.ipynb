{
 "cells": [
  {
   "cell_type": "code",
   "execution_count": 2,
   "metadata": {},
   "outputs": [
    {
     "name": "stderr",
     "output_type": "stream",
     "text": [
      "C:\\Users\\sunse\\AppData\\Local\\Temp\\ipykernel_15664\\2335691605.py:6: DtypeWarning: Columns (68,70,71,72,73,74,76,79) have mixed types. Specify dtype option on import or set low_memory=False.\n",
      "  df = pd.read_csv(url)\n"
     ]
    }
   ],
   "source": [
    "# load pandas\n",
    "import pandas as pd\n",
    "import numpy as np\n",
    "\n",
    "url = 'https://github.com/mattharrison/datasets/raw/master/data/vehicles.csv.zip'\n",
    "df = pd.read_csv(url)\n",
    "\n",
    "# loading the columns of the dataset\n",
    "city_mpg = df.city08\n",
    "highway_mpg = df.highway08\n",
    "\n",
    "url = 'https://github.com/mattharrison/datasets/raw/master/data/alta-noaa-1980-2019.csv'\n",
    "alta_df = pd.read_csv(url)\n",
    "dates = pd.to_datetime(alta_df.DATE)"
   ]
  },
  {
   "cell_type": "code",
   "execution_count": 5,
   "metadata": {},
   "outputs": [
    {
     "name": "stderr",
     "output_type": "stream",
     "text": [
      "C:\\Users\\sunse\\AppData\\Local\\Temp\\ipykernel_15664\\2648957183.py:2: DtypeWarning: Columns (152) have mixed types. Specify dtype option on import or set low_memory=False.\n",
      "  jb = pd.read_csv(url)\n"
     ]
    }
   ],
   "source": [
    "url = 'https://github.com/mattharrison/datasets/raw/master/data/2020-jetbrains-python-survey.csv'\n",
    "jb = pd.read_csv(url)"
   ]
  },
  {
   "cell_type": "markdown",
   "metadata": {},
   "source": [
    "## 13. Creating and Updating Columns"
   ]
  },
  {
   "cell_type": "code",
   "execution_count": 6,
   "metadata": {},
   "outputs": [
    {
     "data": {
      "text/html": [
       "<div>\n",
       "<style scoped>\n",
       "    .dataframe tbody tr th:only-of-type {\n",
       "        vertical-align: middle;\n",
       "    }\n",
       "\n",
       "    .dataframe tbody tr th {\n",
       "        vertical-align: top;\n",
       "    }\n",
       "\n",
       "    .dataframe thead th {\n",
       "        text-align: right;\n",
       "    }\n",
       "</style>\n",
       "<table border=\"1\" class=\"dataframe\">\n",
       "  <thead>\n",
       "    <tr style=\"text-align: right;\">\n",
       "      <th></th>\n",
       "      <th>is.python.main</th>\n",
       "      <th>other.lang.None</th>\n",
       "      <th>other.lang.Java</th>\n",
       "      <th>other.lang.JavaScript</th>\n",
       "      <th>other.lang.C/C++</th>\n",
       "      <th>other.lang.PHP</th>\n",
       "      <th>other.lang.C#</th>\n",
       "      <th>other.lang.Ruby</th>\n",
       "      <th>other.lang.Bash / Shell</th>\n",
       "      <th>other.lang.Objective-C</th>\n",
       "      <th>...</th>\n",
       "      <th>job.role.Technical support</th>\n",
       "      <th>job.role.Data analyst</th>\n",
       "      <th>job.role.Business analyst</th>\n",
       "      <th>job.role.Team lead</th>\n",
       "      <th>job.role.Product manager</th>\n",
       "      <th>job.role.CIO / CEO / CTO</th>\n",
       "      <th>job.role.Systems analyst</th>\n",
       "      <th>job.role.Other</th>\n",
       "      <th>age</th>\n",
       "      <th>country.live</th>\n",
       "    </tr>\n",
       "  </thead>\n",
       "  <tbody>\n",
       "    <tr>\n",
       "      <th>0</th>\n",
       "      <td>Yes</td>\n",
       "      <td>NaN</td>\n",
       "      <td>NaN</td>\n",
       "      <td>NaN</td>\n",
       "      <td>NaN</td>\n",
       "      <td>NaN</td>\n",
       "      <td>NaN</td>\n",
       "      <td>NaN</td>\n",
       "      <td>Bash / Shell</td>\n",
       "      <td>NaN</td>\n",
       "      <td>...</td>\n",
       "      <td>NaN</td>\n",
       "      <td>NaN</td>\n",
       "      <td>Business analyst</td>\n",
       "      <td>NaN</td>\n",
       "      <td>NaN</td>\n",
       "      <td>NaN</td>\n",
       "      <td>NaN</td>\n",
       "      <td>NaN</td>\n",
       "      <td>30–39</td>\n",
       "      <td>NaN</td>\n",
       "    </tr>\n",
       "    <tr>\n",
       "      <th>1</th>\n",
       "      <td>Yes</td>\n",
       "      <td>NaN</td>\n",
       "      <td>Java</td>\n",
       "      <td>JavaScript</td>\n",
       "      <td>NaN</td>\n",
       "      <td>NaN</td>\n",
       "      <td>C#</td>\n",
       "      <td>NaN</td>\n",
       "      <td>NaN</td>\n",
       "      <td>NaN</td>\n",
       "      <td>...</td>\n",
       "      <td>NaN</td>\n",
       "      <td>NaN</td>\n",
       "      <td>NaN</td>\n",
       "      <td>NaN</td>\n",
       "      <td>NaN</td>\n",
       "      <td>NaN</td>\n",
       "      <td>NaN</td>\n",
       "      <td>NaN</td>\n",
       "      <td>21–29</td>\n",
       "      <td>India</td>\n",
       "    </tr>\n",
       "    <tr>\n",
       "      <th>2</th>\n",
       "      <td>Yes</td>\n",
       "      <td>NaN</td>\n",
       "      <td>NaN</td>\n",
       "      <td>NaN</td>\n",
       "      <td>C/C++</td>\n",
       "      <td>NaN</td>\n",
       "      <td>NaN</td>\n",
       "      <td>NaN</td>\n",
       "      <td>Bash / Shell</td>\n",
       "      <td>NaN</td>\n",
       "      <td>...</td>\n",
       "      <td>Technical support</td>\n",
       "      <td>Data analyst</td>\n",
       "      <td>NaN</td>\n",
       "      <td>Team lead</td>\n",
       "      <td>NaN</td>\n",
       "      <td>NaN</td>\n",
       "      <td>NaN</td>\n",
       "      <td>NaN</td>\n",
       "      <td>30–39</td>\n",
       "      <td>United States</td>\n",
       "    </tr>\n",
       "    <tr>\n",
       "      <th>3</th>\n",
       "      <td>Yes</td>\n",
       "      <td>NaN</td>\n",
       "      <td>NaN</td>\n",
       "      <td>JavaScript</td>\n",
       "      <td>NaN</td>\n",
       "      <td>NaN</td>\n",
       "      <td>NaN</td>\n",
       "      <td>NaN</td>\n",
       "      <td>Bash / Shell</td>\n",
       "      <td>NaN</td>\n",
       "      <td>...</td>\n",
       "      <td>NaN</td>\n",
       "      <td>NaN</td>\n",
       "      <td>NaN</td>\n",
       "      <td>NaN</td>\n",
       "      <td>NaN</td>\n",
       "      <td>NaN</td>\n",
       "      <td>NaN</td>\n",
       "      <td>NaN</td>\n",
       "      <td>NaN</td>\n",
       "      <td>NaN</td>\n",
       "    </tr>\n",
       "    <tr>\n",
       "      <th>4</th>\n",
       "      <td>Yes</td>\n",
       "      <td>NaN</td>\n",
       "      <td>Java</td>\n",
       "      <td>JavaScript</td>\n",
       "      <td>C/C++</td>\n",
       "      <td>NaN</td>\n",
       "      <td>NaN</td>\n",
       "      <td>NaN</td>\n",
       "      <td>Bash / Shell</td>\n",
       "      <td>NaN</td>\n",
       "      <td>...</td>\n",
       "      <td>NaN</td>\n",
       "      <td>NaN</td>\n",
       "      <td>NaN</td>\n",
       "      <td>NaN</td>\n",
       "      <td>NaN</td>\n",
       "      <td>NaN</td>\n",
       "      <td>NaN</td>\n",
       "      <td>NaN</td>\n",
       "      <td>21–29</td>\n",
       "      <td>Italy</td>\n",
       "    </tr>\n",
       "  </tbody>\n",
       "</table>\n",
       "<p>5 rows × 264 columns</p>\n",
       "</div>"
      ],
      "text/plain": [
       "  is.python.main  other.lang.None other.lang.Java other.lang.JavaScript  \\\n",
       "0            Yes              NaN             NaN                   NaN   \n",
       "1            Yes              NaN            Java            JavaScript   \n",
       "2            Yes              NaN             NaN                   NaN   \n",
       "3            Yes              NaN             NaN            JavaScript   \n",
       "4            Yes              NaN            Java            JavaScript   \n",
       "\n",
       "  other.lang.C/C++ other.lang.PHP other.lang.C# other.lang.Ruby  \\\n",
       "0              NaN            NaN           NaN             NaN   \n",
       "1              NaN            NaN            C#             NaN   \n",
       "2            C/C++            NaN           NaN             NaN   \n",
       "3              NaN            NaN           NaN             NaN   \n",
       "4            C/C++            NaN           NaN             NaN   \n",
       "\n",
       "  other.lang.Bash / Shell other.lang.Objective-C  ...  \\\n",
       "0            Bash / Shell                    NaN  ...   \n",
       "1                     NaN                    NaN  ...   \n",
       "2            Bash / Shell                    NaN  ...   \n",
       "3            Bash / Shell                    NaN  ...   \n",
       "4            Bash / Shell                    NaN  ...   \n",
       "\n",
       "  job.role.Technical support job.role.Data analyst job.role.Business analyst  \\\n",
       "0                        NaN                   NaN          Business analyst   \n",
       "1                        NaN                   NaN                       NaN   \n",
       "2          Technical support          Data analyst                       NaN   \n",
       "3                        NaN                   NaN                       NaN   \n",
       "4                        NaN                   NaN                       NaN   \n",
       "\n",
       "  job.role.Team lead job.role.Product manager job.role.CIO / CEO / CTO  \\\n",
       "0                NaN                      NaN                      NaN   \n",
       "1                NaN                      NaN                      NaN   \n",
       "2          Team lead                      NaN                      NaN   \n",
       "3                NaN                      NaN                      NaN   \n",
       "4                NaN                      NaN                      NaN   \n",
       "\n",
       "  job.role.Systems analyst job.role.Other    age   country.live  \n",
       "0                      NaN            NaN  30–39            NaN  \n",
       "1                      NaN            NaN  21–29          India  \n",
       "2                      NaN            NaN  30–39  United States  \n",
       "3                      NaN            NaN    NaN            NaN  \n",
       "4                      NaN            NaN  21–29          Italy  \n",
       "\n",
       "[5 rows x 264 columns]"
      ]
     },
     "execution_count": 6,
     "metadata": {},
     "output_type": "execute_result"
    }
   ],
   "source": [
    "df.head()"
   ]
  },
  {
   "cell_type": "code",
   "execution_count": 8,
   "metadata": {},
   "outputs": [
    {
     "data": {
      "text/plain": [
       "['age',\n",
       " 'are.you.datascientist',\n",
       " 'company.size',\n",
       " 'country.live',\n",
       " 'employment.status',\n",
       " 'first.learn.about.main.ide',\n",
       " 'how.often.use.main.ide',\n",
       " 'ide.main',\n",
       " 'is.python.main',\n",
       " 'job.team',\n",
       " 'main.purposes',\n",
       " 'missing.features.main.ide',\n",
       " 'nps.main.ide',\n",
       " 'python.years',\n",
       " 'python2.version.most',\n",
       " 'python3.version.most',\n",
       " 'several.projects',\n",
       " 'team.size',\n",
       " 'use.python.most',\n",
       " 'years.of.coding']"
      ]
     },
     "execution_count": 8,
     "metadata": {},
     "output_type": "execute_result"
    }
   ],
   "source": [
    "# determine whether a feature can have multiple values and removes those\n",
    "\n",
    "import collections\n",
    "counter = collections.defaultdict(list)\n",
    "\n",
    "for col in sorted(jb.columns):\n",
    "    period_count = col.count('.')\n",
    "    if period_count >= 2:\n",
    "        part_end = 2\n",
    "    else:\n",
    "        part_end = 1\n",
    "    parts = col.split('.')[:part_end]\n",
    "    counter['.'.join(parts)].append(col)\n",
    "\n",
    "uniq_cols=[]\n",
    "for cols in counter.values():\n",
    "    if len(cols) == 1:\n",
    "        uniq_cols.extend(cols)\n",
    "\n",
    "uniq_cols"
   ]
  },
  {
   "cell_type": "code",
   "execution_count": 12,
   "metadata": {},
   "outputs": [
    {
     "data": {
      "text/plain": [
       "age\n",
       "21–29          9710\n",
       "30–39          7512\n",
       "40–49          3010\n",
       "18–20          2567\n",
       "50–59          1374\n",
       "60 or older     588\n",
       "Name: count, dtype: int64"
      ]
     },
     "execution_count": 12,
     "metadata": {},
     "output_type": "execute_result"
    }
   ],
   "source": [
    "# rename columns, replace '.' with '_' so that we can access them via attributes\n",
    "(jb\n",
    " [uniq_cols]\n",
    " .rename(columns= lambda c: c.replace('.', '_'))\n",
    " .age\n",
    " .value_counts())"
   ]
  },
  {
   "cell_type": "code",
   "execution_count": 19,
   "metadata": {},
   "outputs": [
    {
     "data": {
      "text/plain": [
       "0        30.0\n",
       "1        21.0\n",
       "2        30.0\n",
       "3         NaN\n",
       "4        21.0\n",
       "         ... \n",
       "54457    21.0\n",
       "54458     NaN\n",
       "54459    21.0\n",
       "54460    30.0\n",
       "54461    21.0\n",
       "Name: age, Length: 54462, dtype: float64"
      ]
     },
     "execution_count": 19,
     "metadata": {},
     "output_type": "execute_result"
    }
   ],
   "source": [
    "# extract first two characters from age and convert to numbers\n",
    "(jb\n",
    " [uniq_cols]\n",
    " .rename(columns= lambda c: c.replace('.', '_'))\n",
    " .age\n",
    " .str.slice(0,2)\n",
    " .astype(float))"
   ]
  },
  {
   "cell_type": "code",
   "execution_count": null,
   "metadata": {},
   "outputs": [],
   "source": []
  },
  {
   "cell_type": "code",
   "execution_count": null,
   "metadata": {},
   "outputs": [],
   "source": []
  },
  {
   "cell_type": "code",
   "execution_count": null,
   "metadata": {},
   "outputs": [],
   "source": []
  },
  {
   "cell_type": "code",
   "execution_count": null,
   "metadata": {},
   "outputs": [],
   "source": []
  },
  {
   "cell_type": "code",
   "execution_count": null,
   "metadata": {},
   "outputs": [],
   "source": []
  },
  {
   "cell_type": "code",
   "execution_count": null,
   "metadata": {},
   "outputs": [],
   "source": []
  }
 ],
 "metadata": {
  "kernelspec": {
   "display_name": "Python 3",
   "language": "python",
   "name": "python3"
  },
  "language_info": {
   "codemirror_mode": {
    "name": "ipython",
    "version": 3
   },
   "file_extension": ".py",
   "mimetype": "text/x-python",
   "name": "python",
   "nbconvert_exporter": "python",
   "pygments_lexer": "ipython3",
   "version": "3.11.7"
  }
 },
 "nbformat": 4,
 "nbformat_minor": 2
}
